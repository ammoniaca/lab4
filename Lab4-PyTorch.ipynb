{
 "cells": [
  {
   "cell_type": "markdown",
   "id": "9bdf7099-a6d0-4b18-9216-f8e6701842f6",
   "metadata": {},
   "source": [
    "# Laboratory 4: Getting started with Pytorch\n",
    "\n",
    "In this laboratory we will begin working with Pytorch to implement and train complex, nonlinear models for supervised learning problems. You will notice many similarities between Numpy and Pytorch -- this is deliberate, but it can cause some confusion and for many things we will have to convert back and forth between Numpy arrays and Pytorch tensors."
   ]
  },
  {
   "cell_type": "markdown",
   "id": "b3117a44-c264-469e-91b6-2cc445413903",
   "metadata": {},
   "source": [
    "## Part 0: First steps\n",
    "\n",
    "**Important**: You **must** install Pytorch in your Anaconda environment for this laboratory. The easiest way to do this is to just install the CPU version of Pytorch like this:\n",
    "\n",
    "```\n",
    "conda activate FML\n",
    "conda install -c pytorch pytorch torchvision\n",
    "```\n",
    "\n",
    "**Note**: If you have an Nvidia GPU on your computer you can also install the GPU-enabled version of Pytorch which will **greatly** improve performance for more complex models and larger datasets. However, it can be very hard to get all of the versions of the required libraries to match correctly... During the laboratory we can look at it together if you are interested.\n",
    "\n",
    "After installing Pytorch, use the next cell to verify that the installation is working. If it prints a 3x3 sensor, we're good to go."
   ]
  },
  {
   "cell_type": "code",
   "execution_count": 2,
   "id": "bfcdca90-bf99-4c35-b7e3-961f6ba45cfa",
   "metadata": {
    "ExecuteTime": {
     "end_time": "2023-12-04T20:11:17.846840900Z",
     "start_time": "2023-12-04T20:11:15.438582400Z"
    }
   },
   "outputs": [
    {
     "name": "stdout",
     "output_type": "stream",
     "text": [
      "tensor([[ 0.3834, -1.2433, -1.0787],\n",
      "        [ 0.4973,  1.1934, -0.2174],\n",
      "        [ 0.1920, -1.0976, -0.0052]])\n"
     ]
    }
   ],
   "source": [
    "# We're still going to need numpy and matplotlib.\n",
    "import numpy as np\n",
    "import matplotlib.pyplot as plt\n",
    "\n",
    "# Verify that pytorch is working.\n",
    "import torch\n",
    "\n",
    "# Select a random tensor 3 by 3 in PyTorch to verify if it is working \n",
    "random_number = torch.randn((3, 3))\n",
    "print(random_number)"
   ]
  },
  {
   "cell_type": "code",
   "execution_count": 3,
   "id": "3b6ad38df00b9af5",
   "metadata": {
    "ExecuteTime": {
     "end_time": "2023-12-04T20:15:32.347370500Z",
     "start_time": "2023-12-04T20:15:32.315371900Z"
    },
    "collapsed": false,
    "jupyter": {
     "outputs_hidden": false
    }
   },
   "outputs": [
    {
     "name": "stdout",
     "output_type": "stream",
     "text": [
      "Device type: cpu\n"
     ]
    }
   ],
   "source": [
    "# Check available device (\"CUDA\" or \"CPU\")\n",
    "device = torch.device('cuda' if torch.cuda.is_available() else 'cpu')\n",
    "print(f\"Device type: {device}\")"
   ]
  },
  {
   "cell_type": "markdown",
   "id": "5b6f7466-0f8f-406e-a4e7-24e8a8135f8a",
   "metadata": {},
   "source": [
    "## Part 1: Dataset preparation"
   ]
  },
  {
   "cell_type": "markdown",
   "id": "8ebc2242-e79a-4e67-af09-8318126dde0e",
   "metadata": {},
   "source": [
    "We will work with the venerable MNIST dataset of handwritten digits in this laboratory. The `torchvision` library provides classes for a bunch of standard datasets, including MNIST. These classes automatically download and prepare the dataset for use."
   ]
  },
  {
   "cell_type": "code",
   "execution_count": 4,
   "id": "3af0151f-9897-4fa0-8832-4603979427df",
   "metadata": {
    "ExecuteTime": {
     "end_time": "2023-12-04T20:21:33.061531200Z",
     "start_time": "2023-12-04T20:21:29.341194300Z"
    }
   },
   "outputs": [],
   "source": [
    "# Download and load the MNIST (Modified National Institute of Standards and Technology database) dataset.\n",
    "from torchvision.datasets import MNIST\n",
    "import torchvision\n",
    "\n",
    "# Load the MNIST training and test splits.\n",
    "ds_train = MNIST(\n",
    "    root='./data', \n",
    "    download=True, \n",
    "    train=True\n",
    ")\n",
    "\n",
    "ds_test  = MNIST(\n",
    "    root='./data', \n",
    "    download=True, \n",
    "    train=False\n",
    ")"
   ]
  },
  {
   "cell_type": "markdown",
   "id": "c5c8f829-4b93-4226-a1ca-7aa5c09f9b94",
   "metadata": {},
   "source": [
    "**Commento**: Il database MNIST (*Modified National Institute of Standards and Technology database*) è un database di immagini che rappresentano delle cifre numeriche scritte a mano a dagli impiegati dell'ufficio censimento degli Stati Uniti (*American Census Bureau*). Tale databse contiene 60,000 immagini per l'addestramento (*training*) e 10,000 immagini per la verifica (*test*)."
   ]
  },
  {
   "cell_type": "markdown",
   "id": "d8f7fc9b-2a69-48eb-bea1-9cf97117ebf8",
   "metadata": {},
   "source": [
    "### Exercise 1.1: Exploratory data analysis\n",
    "\n",
    "Spend some time inspecting the `ds_train` and `ds_test` data structures in order to get a feel for the data. What is the format? How big are the images? How many are there? What about the range of pixel values? Where are the labels for images?\n",
    "\n",
    "Remember that one of the best ways to explore is to *visualize*."
   ]
  },
  {
   "cell_type": "code",
   "execution_count": 5,
   "id": "2aee6552-731f-451d-8018-4d7ab938ba93",
   "metadata": {},
   "outputs": [
    {
     "name": "stdout",
     "output_type": "stream",
     "text": [
      "Dataset MNIST\n",
      "    Number of datapoints: 60000\n",
      "    Root location: ./data\n",
      "    Split: Train\n"
     ]
    }
   ],
   "source": [
    "# Show train\n",
    "print(ds_train)"
   ]
  },
  {
   "cell_type": "code",
   "execution_count": 6,
   "id": "1453a236-bc98-4815-b9af-0b10422e0732",
   "metadata": {},
   "outputs": [
    {
     "name": "stdout",
     "output_type": "stream",
     "text": [
      "Dataset MNIST\n",
      "    Number of datapoints: 10000\n",
      "    Root location: ./data\n",
      "    Split: Test\n"
     ]
    }
   ],
   "source": [
    "print(ds_test)"
   ]
  },
  {
   "cell_type": "code",
   "execution_count": 36,
   "id": "a2b9f481-27c3-4e4b-8047-ad6876e27533",
   "metadata": {},
   "outputs": [
    {
     "name": "stdout",
     "output_type": "stream",
     "text": [
      "Number of images is 60000, where each image is 28 pixel in height and 28 pixel in width.\n"
     ]
    }
   ],
   "source": [
    "number_images, height_pixel, width_pixel = ds_train.data.size()\n",
    "print(f\"Number of images is {number_images}, where each image is {height_pixel} pixel in height and {width_pixel} pixel in width.\")"
   ]
  },
  {
   "cell_type": "code",
   "execution_count": 90,
   "id": "4ae96452-8fe1-42cd-9083-f610665f7991",
   "metadata": {},
   "outputs": [
    {
     "name": "stdout",
     "output_type": "stream",
     "text": [
      "Train labels\n",
      "tensor([5, 0, 4,  ..., 5, 6, 8])\n",
      "Number of train labels: 60000\n"
     ]
    }
   ],
   "source": [
    "print(\"Train labels\")\n",
    "print(ds_train.targets)\n",
    "print(f\"Number of train labels: {len(ds_train.targets)}\")"
   ]
  },
  {
   "cell_type": "code",
   "execution_count": 89,
   "id": "c8907b91-144a-4dd4-8ed6-64cf54ed5bcc",
   "metadata": {},
   "outputs": [
    {
     "name": "stdout",
     "output_type": "stream",
     "text": [
      "Test labels\n",
      "tensor([7, 2, 1,  ..., 4, 5, 6])\n",
      "Number of test labels 10000\n"
     ]
    }
   ],
   "source": [
    "print(\"Test labels\")\n",
    "print(ds_test.targets)\n",
    "print(f\"Number of test labels: {len(ds_test.targets)}\")"
   ]
  },
  {
   "cell_type": "markdown",
   "id": "8d5cdcb8-3088-4491-aa78-9e66e7042cc7",
   "metadata": {},
   "source": [
    "**Commento**: come si può vedere dall'output del metodo print, il traning del dataset MNIST contiene 60.000 immagini (di cifre scritte a mano) dove ogni immagini ha una dimensione di 28 x 28 pixel. Nelle immagini successive si può notare che ogni immagine è una cifra scritta a mano in scala di grigi con dimensione di 28 x 28 pixel."
   ]
  },
  {
   "cell_type": "code",
   "execution_count": 37,
   "id": "eacf7163-b191-4ed1-9480-0680a2d0d1f1",
   "metadata": {},
   "outputs": [
    {
     "data": {
      "image/png": "[encoded data removed]",
      "text/plain": [
       "<Figure size 640x480 with 1 Axes>"
      ]
     },
     "metadata": {},
     "output_type": "display_data"
    }
   ],
   "source": [
    "sample_index = 0\n",
    "plt.imshow(ds_train.data[sample_index], cmap='gray')\n",
    "plt.title('Label: %i' % ds_train.targets[sample_index])\n",
    "plt.show()"
   ]
  },
  {
   "cell_type": "code",
   "execution_count": 39,
   "id": "0095f7e1-74b9-4516-8b86-10659ee2312d",
   "metadata": {},
   "outputs": [
    {
     "data": {
      "image/png": "[encoded data removed]",
      "text/plain": [
       "<Figure size 1000x900 with 25 Axes>"
      ]
     },
     "metadata": {},
     "output_type": "display_data"
    }
   ],
   "source": [
    "figure = plt.figure(figsize=(10, 9))\n",
    "cols, rows = 5, 5\n",
    "for i in range(1, cols * rows + 1):\n",
    "    sample_index = torch.randint(len(ds_train), size=(1,)).item()\n",
    "    img, label = ds_train[sample_index]\n",
    "    figure.add_subplot(rows, cols, i)\n",
    "    plt.title(f\"Label: {label}\")\n",
    "    plt.axis(\"off\")\n",
    "    plt.imshow(img, cmap=\"gray\")\n",
    "plt.show()"
   ]
  },
  {
   "cell_type": "markdown",
   "id": "d1f462b0-0bd1-4501-8b96-d34e8e873e8a",
   "metadata": {},
   "source": [
    "### Exercise 1.2: Dataset conversion and normalization\n",
    "\n",
    "+ **Datatype Conversion**:\n",
    "The first thing we need to do is convert all data tensors to `torch.float32` -- this is fundamental as it is extremely inconvenient to work with `uint8` data. Using 32-bit floating point numbers is a compromise between precision and space efficiency.\n",
    "The `torch.Tensor` class has a very useful method `to()` for performing datatype and device (e.g. to GPU) conversions. Check out the [documentation here](https://pytorch.org/docs/stable/generated/torch.Tensor.to.html#torch-tensor-to).\n",
    "\n",
    "+ **Normalization**:\n",
    "Next, we need to correct the inconvenient range of [0, 255] for the pixel values. You should *subtract* the mean intensity value and divide by the standard deviation in order to *standardize* our data. **Important**: Think *very carefully* about *which* split you should use to compute the pixel statistics for standardization.\n",
    "\n",
    "+ **Reshaping**: Is the data in an appropriate format (i.e. shape) for the training the models we know? Think about whether (and how) to fix this if needed. \n",
    "\n",
    "**What to do**: In the cell below you should perform this sequence preprocessing operations on the `ds_train.data` and `ds_test.data` tensors. "
   ]
  },
  {
   "cell_type": "markdown",
   "id": "1ef96b50-aade-43cd-bfdc-a1883871feba",
   "metadata": {},
   "source": [
    "**Commento**: il seguente esempio si serve di una immagine per comprendere meglio la procedura di coversione e di normalizzazione proposta a lezione."
   ]
  },
  {
   "cell_type": "code",
   "execution_count": 100,
   "id": "74ee260a-e89d-4b94-b000-71fa3ad9df46",
   "metadata": {},
   "outputs": [
    {
     "name": "stdout",
     "output_type": "stream",
     "text": [
      "Number of train images: 60000.\n",
      "\n",
      "(1) Datatype Conversion (example with one image):\n",
      "\n",
      "Original Training image in uint8.\n",
      "\n",
      "Size original: torch.Size([28, 28])\n",
      "\n",
      "tensor([[  0,   0,   0,   0,   0,   0,   0,   0,   0,   0,   0,   0,   0,   0,\n",
      "           0,   0,   0,   0,   0,   0,   0,   0,   0,   0,   0,   0,   0,   0],\n",
      "        [  0,   0,   0,   0,   0,   0,   0,   0,   0,   0,   0,   0,   0,   0,\n",
      "           0,   0,   0,   0,   0,   0,   0,   0,   0,   0,   0,   0,   0,   0],\n",
      "        [  0,   0,   0,   0,   0,   0,   0,   0,   0,   0,   0,   0,   0,   0,\n",
      "           0,   0,   0,   0,   0,   0,   0,   0,   0,   0,   0,   0,   0,   0],\n",
      "        [  0,   0,   0,   0,   0,   0,   0,   0,   0,   0,   0,   0,   0,   0,\n",
      "           0,   0,   0,   0,   0,   0,   0,   0,   0,   0,   0,   0,   0,   0],\n",
      "        [  0,   0,   0,   0,   0,   0,   0,   0,   0,   0,   0,   0,   0,   0,\n",
      "          73, 253, 253,  63,   0,   0,   0,   0,   0,   0,   0,   0,   0,   0],\n",
      "        [  0,   0,   0,   0,   0,   0,   0,   0,   0,   0,   0,   0,   0,   0,\n",
      "         115, 252, 252, 144,   0,   0,   0,   0,   0,   0,   0,   0,   0,   0],\n",
      "        [  0,   0,   0,   0,   0,   0,   0,   0,   0,   0,   0,   0,   0,   0,\n",
      "         217, 252, 252, 144,   0,   0,   0,   0,   0,   0,   0,   0,   0,   0],\n",
      "        [  0,   0,   0,   0,   0,   0,   0,   0,   0,   0,   0,   0,   0,  63,\n",
      "         237, 252, 252, 144,   0,   0,   0,   0,   0,   0,   0,   0,   0,   0],\n",
      "        [  0,   0,   0,   0,   0,   0,   0,   0,   0,   0,   0,   0,   0, 109,\n",
      "         252, 252, 252,   0,   0,   0,   0,   0,   0,   0,   0,   0,   0,   0],\n",
      "        [  0,   0,   0,   0,   0,   0,   0,   0,   0,   0,   0,   0,   0, 109,\n",
      "         252, 252, 252,   0,   0,   0,   0,   0,   0,   0,   0,   0,   0,   0],\n",
      "        [  0,   0,   0,   0,   0,   0,   0,   0,   0,   0,   0,   0,   0, 109,\n",
      "         252, 252, 252,   0,   0,   0,   0,   0,   0,   0,   0,   0,   0,   0],\n",
      "        [  0,   0,   0,   0,   0,   0,   0,   0,   0,   0,   0,   0,   0, 191,\n",
      "         252, 252, 252,   0,   0,   0,   0,   0,   0,   0,   0,   0,   0,   0],\n",
      "        [  0,   0,   0,   0,   0,   0,   0,   0,   0,   0,   0,   0, 145, 255,\n",
      "         253, 253, 253,   0,   0,   0,   0,   0,   0,   0,   0,   0,   0,   0],\n",
      "        [  0,   0,   0,   0,   0,   0,   0,   0,   0,   0,   0,  32, 237, 253,\n",
      "         252, 252, 210,   0,   0,   0,   0,   0,   0,   0,   0,   0,   0,   0],\n",
      "        [  0,   0,   0,   0,   0,   0,   0,   0,   0,   0,   0,  37, 252, 253,\n",
      "         252, 252, 108,   0,   0,   0,   0,   0,   0,   0,   0,   0,   0,   0],\n",
      "        [  0,   0,   0,   0,   0,   0,   0,   0,   0,   0,   0,  37, 252, 253,\n",
      "         252, 252, 108,   0,   0,   0,   0,   0,   0,   0,   0,   0,   0,   0],\n",
      "        [  0,   0,   0,   0,   0,   0,   0,   0,   0,   0,   0,  21, 207, 255,\n",
      "         253, 253, 108,   0,   0,   0,   0,   0,   0,   0,   0,   0,   0,   0],\n",
      "        [  0,   0,   0,   0,   0,   0,   0,   0,   0,   0,   0,   0, 144, 253,\n",
      "         252, 252, 108,   0,   0,   0,   0,   0,   0,   0,   0,   0,   0,   0],\n",
      "        [  0,   0,   0,   0,   0,   0,   0,   0,   0,   0,   0,  27, 221, 253,\n",
      "         252, 252, 108,   0,   0,   0,   0,   0,   0,   0,   0,   0,   0,   0],\n",
      "        [  0,   0,   0,   0,   0,   0,   0,   0,   0,   0,   0,  16, 190, 253,\n",
      "         252, 252, 108,   0,   0,   0,   0,   0,   0,   0,   0,   0,   0,   0],\n",
      "        [  0,   0,   0,   0,   0,   0,   0,   0,   0,   0,   0,   0, 145, 255,\n",
      "         253, 253, 253,   0,   0,   0,   0,   0,   0,   0,   0,   0,   0,   0],\n",
      "        [  0,   0,   0,   0,   0,   0,   0,   0,   0,   0,   0,   0, 144, 253,\n",
      "         252, 252, 210,   0,   0,   0,   0,   0,   0,   0,   0,   0,   0,   0],\n",
      "        [  0,   0,   0,   0,   0,   0,   0,   0,   0,   0,   0,   0, 144, 253,\n",
      "         252, 252, 108,   0,   0,   0,   0,   0,   0,   0,   0,   0,   0,   0],\n",
      "        [  0,   0,   0,   0,   0,   0,   0,   0,   0,   0,   0,   0,  62, 253,\n",
      "         252, 252, 108,   0,   0,   0,   0,   0,   0,   0,   0,   0,   0,   0],\n",
      "        [  0,   0,   0,   0,   0,   0,   0,   0,   0,   0,   0,   0,   0,   0,\n",
      "           0,   0,   0,   0,   0,   0,   0,   0,   0,   0,   0,   0,   0,   0],\n",
      "        [  0,   0,   0,   0,   0,   0,   0,   0,   0,   0,   0,   0,   0,   0,\n",
      "           0,   0,   0,   0,   0,   0,   0,   0,   0,   0,   0,   0,   0,   0],\n",
      "        [  0,   0,   0,   0,   0,   0,   0,   0,   0,   0,   0,   0,   0,   0,\n",
      "           0,   0,   0,   0,   0,   0,   0,   0,   0,   0,   0,   0,   0,   0],\n",
      "        [  0,   0,   0,   0,   0,   0,   0,   0,   0,   0,   0,   0,   0,   0,\n",
      "           0,   0,   0,   0,   0,   0,   0,   0,   0,   0,   0,   0,   0,   0]],\n",
      "       dtype=torch.uint8)\n",
      "\n",
      "Datatype Conversion of Training images: uint8 -> float32 and flatten into a one-dimensional tensor.\n",
      "\n",
      "Size converted: torch.Size([784])\n",
      "\n",
      "tensor([  0.,   0.,   0.,   0.,   0.,   0.,   0.,   0.,   0.,   0.,   0.,   0.,\n",
      "          0.,   0.,   0.,   0.,   0.,   0.,   0.,   0.,   0.,   0.,   0.,   0.,\n",
      "          0.,   0.,   0.,   0.,   0.,   0.,   0.,   0.,   0.,   0.,   0.,   0.,\n",
      "          0.,   0.,   0.,   0.,   0.,   0.,   0.,   0.,   0.,   0.,   0.,   0.,\n",
      "          0.,   0.,   0.,   0.,   0.,   0.,   0.,   0.,   0.,   0.,   0.,   0.,\n",
      "          0.,   0.,   0.,   0.,   0.,   0.,   0.,   0.,   0.,   0.,   0.,   0.,\n",
      "          0.,   0.,   0.,   0.,   0.,   0.,   0.,   0.,   0.,   0.,   0.,   0.,\n",
      "          0.,   0.,   0.,   0.,   0.,   0.,   0.,   0.,   0.,   0.,   0.,   0.,\n",
      "          0.,   0.,   0.,   0.,   0.,   0.,   0.,   0.,   0.,   0.,   0.,   0.,\n",
      "          0.,   0.,   0.,   0.,   0.,   0.,   0.,   0.,   0.,   0.,   0.,   0.,\n",
      "          0.,   0.,   0.,   0.,   0.,   0.,  73., 253., 253.,  63.,   0.,   0.,\n",
      "          0.,   0.,   0.,   0.,   0.,   0.,   0.,   0.,   0.,   0.,   0.,   0.,\n",
      "          0.,   0.,   0.,   0.,   0.,   0.,   0.,   0.,   0.,   0., 115., 252.,\n",
      "        252., 144.,   0.,   0.,   0.,   0.,   0.,   0.,   0.,   0.,   0.,   0.,\n",
      "          0.,   0.,   0.,   0.,   0.,   0.,   0.,   0.,   0.,   0.,   0.,   0.,\n",
      "          0.,   0., 217., 252., 252., 144.,   0.,   0.,   0.,   0.,   0.,   0.,\n",
      "          0.,   0.,   0.,   0.,   0.,   0.,   0.,   0.,   0.,   0.,   0.,   0.,\n",
      "          0.,   0.,   0.,   0.,   0.,  63., 237., 252., 252., 144.,   0.,   0.,\n",
      "          0.,   0.,   0.,   0.,   0.,   0.,   0.,   0.,   0.,   0.,   0.,   0.,\n",
      "          0.,   0.,   0.,   0.,   0.,   0.,   0.,   0.,   0., 109., 252., 252.,\n",
      "        252.,   0.,   0.,   0.,   0.,   0.,   0.,   0.,   0.,   0.,   0.,   0.,\n",
      "          0.,   0.,   0.,   0.,   0.,   0.,   0.,   0.,   0.,   0.,   0.,   0.,\n",
      "          0., 109., 252., 252., 252.,   0.,   0.,   0.,   0.,   0.,   0.,   0.,\n",
      "          0.,   0.,   0.,   0.,   0.,   0.,   0.,   0.,   0.,   0.,   0.,   0.,\n",
      "          0.,   0.,   0.,   0.,   0., 109., 252., 252., 252.,   0.,   0.,   0.,\n",
      "          0.,   0.,   0.,   0.,   0.,   0.,   0.,   0.,   0.,   0.,   0.,   0.,\n",
      "          0.,   0.,   0.,   0.,   0.,   0.,   0.,   0.,   0., 191., 252., 252.,\n",
      "        252.,   0.,   0.,   0.,   0.,   0.,   0.,   0.,   0.,   0.,   0.,   0.,\n",
      "          0.,   0.,   0.,   0.,   0.,   0.,   0.,   0.,   0.,   0.,   0.,   0.,\n",
      "        145., 255., 253., 253., 253.,   0.,   0.,   0.,   0.,   0.,   0.,   0.,\n",
      "          0.,   0.,   0.,   0.,   0.,   0.,   0.,   0.,   0.,   0.,   0.,   0.,\n",
      "          0.,   0.,   0.,  32., 237., 253., 252., 252., 210.,   0.,   0.,   0.,\n",
      "          0.,   0.,   0.,   0.,   0.,   0.,   0.,   0.,   0.,   0.,   0.,   0.,\n",
      "          0.,   0.,   0.,   0.,   0.,   0.,   0.,  37., 252., 253., 252., 252.,\n",
      "        108.,   0.,   0.,   0.,   0.,   0.,   0.,   0.,   0.,   0.,   0.,   0.,\n",
      "          0.,   0.,   0.,   0.,   0.,   0.,   0.,   0.,   0.,   0.,   0.,  37.,\n",
      "        252., 253., 252., 252., 108.,   0.,   0.,   0.,   0.,   0.,   0.,   0.,\n",
      "          0.,   0.,   0.,   0.,   0.,   0.,   0.,   0.,   0.,   0.,   0.,   0.,\n",
      "          0.,   0.,   0.,  21., 207., 255., 253., 253., 108.,   0.,   0.,   0.,\n",
      "          0.,   0.,   0.,   0.,   0.,   0.,   0.,   0.,   0.,   0.,   0.,   0.,\n",
      "          0.,   0.,   0.,   0.,   0.,   0.,   0.,   0., 144., 253., 252., 252.,\n",
      "        108.,   0.,   0.,   0.,   0.,   0.,   0.,   0.,   0.,   0.,   0.,   0.,\n",
      "          0.,   0.,   0.,   0.,   0.,   0.,   0.,   0.,   0.,   0.,   0.,  27.,\n",
      "        221., 253., 252., 252., 108.,   0.,   0.,   0.,   0.,   0.,   0.,   0.,\n",
      "          0.,   0.,   0.,   0.,   0.,   0.,   0.,   0.,   0.,   0.,   0.,   0.,\n",
      "          0.,   0.,   0.,  16., 190., 253., 252., 252., 108.,   0.,   0.,   0.,\n",
      "          0.,   0.,   0.,   0.,   0.,   0.,   0.,   0.,   0.,   0.,   0.,   0.,\n",
      "          0.,   0.,   0.,   0.,   0.,   0.,   0.,   0., 145., 255., 253., 253.,\n",
      "        253.,   0.,   0.,   0.,   0.,   0.,   0.,   0.,   0.,   0.,   0.,   0.,\n",
      "          0.,   0.,   0.,   0.,   0.,   0.,   0.,   0.,   0.,   0.,   0.,   0.,\n",
      "        144., 253., 252., 252., 210.,   0.,   0.,   0.,   0.,   0.,   0.,   0.,\n",
      "          0.,   0.,   0.,   0.,   0.,   0.,   0.,   0.,   0.,   0.,   0.,   0.,\n",
      "          0.,   0.,   0.,   0., 144., 253., 252., 252., 108.,   0.,   0.,   0.,\n",
      "          0.,   0.,   0.,   0.,   0.,   0.,   0.,   0.,   0.,   0.,   0.,   0.,\n",
      "          0.,   0.,   0.,   0.,   0.,   0.,   0.,   0.,  62., 253., 252., 252.,\n",
      "        108.,   0.,   0.,   0.,   0.,   0.,   0.,   0.,   0.,   0.,   0.,   0.,\n",
      "          0.,   0.,   0.,   0.,   0.,   0.,   0.,   0.,   0.,   0.,   0.,   0.,\n",
      "          0.,   0.,   0.,   0.,   0.,   0.,   0.,   0.,   0.,   0.,   0.,   0.,\n",
      "          0.,   0.,   0.,   0.,   0.,   0.,   0.,   0.,   0.,   0.,   0.,   0.,\n",
      "          0.,   0.,   0.,   0.,   0.,   0.,   0.,   0.,   0.,   0.,   0.,   0.,\n",
      "          0.,   0.,   0.,   0.,   0.,   0.,   0.,   0.,   0.,   0.,   0.,   0.,\n",
      "          0.,   0.,   0.,   0.,   0.,   0.,   0.,   0.,   0.,   0.,   0.,   0.,\n",
      "          0.,   0.,   0.,   0.,   0.,   0.,   0.,   0.,   0.,   0.,   0.,   0.,\n",
      "          0.,   0.,   0.,   0.,   0.,   0.,   0.,   0.,   0.,   0.,   0.,   0.,\n",
      "          0.,   0.,   0.,   0.,   0.,   0.,   0.,   0.,   0.,   0.,   0.,   0.,\n",
      "          0.,   0.,   0.,   0.])\n",
      "\n",
      "(2) Normalization (example with one image):\n",
      "\n",
      "Mean train: 25.457908630371094\n",
      "Standard deviation train: 72.00048065185547\n",
      "\n",
      "Image normalized:\n",
      "\n",
      "tensor([-0.3536, -0.3536, -0.3536, -0.3536, -0.3536, -0.3536, -0.3536, -0.3536,\n",
      "        -0.3536, -0.3536, -0.3536, -0.3536, -0.3536, -0.3536, -0.3536, -0.3536,\n",
      "        -0.3536, -0.3536, -0.3536, -0.3536, -0.3536, -0.3536, -0.3536, -0.3536,\n",
      "        -0.3536, -0.3536, -0.3536, -0.3536, -0.3536, -0.3536, -0.3536, -0.3536,\n",
      "        -0.3536, -0.3536, -0.3536, -0.3536, -0.3536, -0.3536, -0.3536, -0.3536,\n",
      "        -0.3536, -0.3536, -0.3536, -0.3536, -0.3536, -0.3536, -0.3536, -0.3536,\n",
      "        -0.3536, -0.3536, -0.3536, -0.3536, -0.3536, -0.3536, -0.3536, -0.3536,\n",
      "        -0.3536, -0.3536, -0.3536, -0.3536, -0.3536, -0.3536, -0.3536, -0.3536,\n",
      "        -0.3536, -0.3536, -0.3536, -0.3536, -0.3536, -0.3536, -0.3536, -0.3536,\n",
      "        -0.3536, -0.3536, -0.3536, -0.3536, -0.3536, -0.3536, -0.3536, -0.3536,\n",
      "        -0.3536, -0.3536, -0.3536, -0.3536, -0.3536, -0.3536, -0.3536, -0.3536,\n",
      "        -0.3536, -0.3536, -0.3536, -0.3536, -0.3536, -0.3536, -0.3536, -0.3536,\n",
      "        -0.3536, -0.3536, -0.3536, -0.3536, -0.3536, -0.3536, -0.3536, -0.3536,\n",
      "        -0.3536, -0.3536, -0.3536, -0.3536, -0.3536, -0.3536, -0.3536, -0.3536,\n",
      "        -0.3536, -0.3536, -0.3536, -0.3536, -0.3536, -0.3536, -0.3536, -0.3536,\n",
      "        -0.3536, -0.3536, -0.3536, -0.3536, -0.3536, -0.3536,  0.6603,  3.1603,\n",
      "         3.1603,  0.5214, -0.3536, -0.3536, -0.3536, -0.3536, -0.3536, -0.3536,\n",
      "        -0.3536, -0.3536, -0.3536, -0.3536, -0.3536, -0.3536, -0.3536, -0.3536,\n",
      "        -0.3536, -0.3536, -0.3536, -0.3536, -0.3536, -0.3536, -0.3536, -0.3536,\n",
      "        -0.3536, -0.3536,  1.2436,  3.1464,  3.1464,  1.6464, -0.3536, -0.3536,\n",
      "        -0.3536, -0.3536, -0.3536, -0.3536, -0.3536, -0.3536, -0.3536, -0.3536,\n",
      "        -0.3536, -0.3536, -0.3536, -0.3536, -0.3536, -0.3536, -0.3536, -0.3536,\n",
      "        -0.3536, -0.3536, -0.3536, -0.3536, -0.3536, -0.3536,  2.6603,  3.1464,\n",
      "         3.1464,  1.6464, -0.3536, -0.3536, -0.3536, -0.3536, -0.3536, -0.3536,\n",
      "        -0.3536, -0.3536, -0.3536, -0.3536, -0.3536, -0.3536, -0.3536, -0.3536,\n",
      "        -0.3536, -0.3536, -0.3536, -0.3536, -0.3536, -0.3536, -0.3536, -0.3536,\n",
      "        -0.3536,  0.5214,  2.9381,  3.1464,  3.1464,  1.6464, -0.3536, -0.3536,\n",
      "        -0.3536, -0.3536, -0.3536, -0.3536, -0.3536, -0.3536, -0.3536, -0.3536,\n",
      "        -0.3536, -0.3536, -0.3536, -0.3536, -0.3536, -0.3536, -0.3536, -0.3536,\n",
      "        -0.3536, -0.3536, -0.3536, -0.3536, -0.3536,  1.1603,  3.1464,  3.1464,\n",
      "         3.1464, -0.3536, -0.3536, -0.3536, -0.3536, -0.3536, -0.3536, -0.3536,\n",
      "        -0.3536, -0.3536, -0.3536, -0.3536, -0.3536, -0.3536, -0.3536, -0.3536,\n",
      "        -0.3536, -0.3536, -0.3536, -0.3536, -0.3536, -0.3536, -0.3536, -0.3536,\n",
      "        -0.3536,  1.1603,  3.1464,  3.1464,  3.1464, -0.3536, -0.3536, -0.3536,\n",
      "        -0.3536, -0.3536, -0.3536, -0.3536, -0.3536, -0.3536, -0.3536, -0.3536,\n",
      "        -0.3536, -0.3536, -0.3536, -0.3536, -0.3536, -0.3536, -0.3536, -0.3536,\n",
      "        -0.3536, -0.3536, -0.3536, -0.3536, -0.3536,  1.1603,  3.1464,  3.1464,\n",
      "         3.1464, -0.3536, -0.3536, -0.3536, -0.3536, -0.3536, -0.3536, -0.3536,\n",
      "        -0.3536, -0.3536, -0.3536, -0.3536, -0.3536, -0.3536, -0.3536, -0.3536,\n",
      "        -0.3536, -0.3536, -0.3536, -0.3536, -0.3536, -0.3536, -0.3536, -0.3536,\n",
      "        -0.3536,  2.2992,  3.1464,  3.1464,  3.1464, -0.3536, -0.3536, -0.3536,\n",
      "        -0.3536, -0.3536, -0.3536, -0.3536, -0.3536, -0.3536, -0.3536, -0.3536,\n",
      "        -0.3536, -0.3536, -0.3536, -0.3536, -0.3536, -0.3536, -0.3536, -0.3536,\n",
      "        -0.3536, -0.3536, -0.3536, -0.3536,  1.6603,  3.1881,  3.1603,  3.1603,\n",
      "         3.1603, -0.3536, -0.3536, -0.3536, -0.3536, -0.3536, -0.3536, -0.3536,\n",
      "        -0.3536, -0.3536, -0.3536, -0.3536, -0.3536, -0.3536, -0.3536, -0.3536,\n",
      "        -0.3536, -0.3536, -0.3536, -0.3536, -0.3536, -0.3536, -0.3536,  0.0909,\n",
      "         2.9381,  3.1603,  3.1464,  3.1464,  2.5631, -0.3536, -0.3536, -0.3536,\n",
      "        -0.3536, -0.3536, -0.3536, -0.3536, -0.3536, -0.3536, -0.3536, -0.3536,\n",
      "        -0.3536, -0.3536, -0.3536, -0.3536, -0.3536, -0.3536, -0.3536, -0.3536,\n",
      "        -0.3536, -0.3536, -0.3536,  0.1603,  3.1464,  3.1603,  3.1464,  3.1464,\n",
      "         1.1464, -0.3536, -0.3536, -0.3536, -0.3536, -0.3536, -0.3536, -0.3536,\n",
      "        -0.3536, -0.3536, -0.3536, -0.3536, -0.3536, -0.3536, -0.3536, -0.3536,\n",
      "        -0.3536, -0.3536, -0.3536, -0.3536, -0.3536, -0.3536, -0.3536,  0.1603,\n",
      "         3.1464,  3.1603,  3.1464,  3.1464,  1.1464, -0.3536, -0.3536, -0.3536,\n",
      "        -0.3536, -0.3536, -0.3536, -0.3536, -0.3536, -0.3536, -0.3536, -0.3536,\n",
      "        -0.3536, -0.3536, -0.3536, -0.3536, -0.3536, -0.3536, -0.3536, -0.3536,\n",
      "        -0.3536, -0.3536, -0.3536, -0.0619,  2.5214,  3.1881,  3.1603,  3.1603,\n",
      "         1.1464, -0.3536, -0.3536, -0.3536, -0.3536, -0.3536, -0.3536, -0.3536,\n",
      "        -0.3536, -0.3536, -0.3536, -0.3536, -0.3536, -0.3536, -0.3536, -0.3536,\n",
      "        -0.3536, -0.3536, -0.3536, -0.3536, -0.3536, -0.3536, -0.3536, -0.3536,\n",
      "         1.6464,  3.1603,  3.1464,  3.1464,  1.1464, -0.3536, -0.3536, -0.3536,\n",
      "        -0.3536, -0.3536, -0.3536, -0.3536, -0.3536, -0.3536, -0.3536, -0.3536,\n",
      "        -0.3536, -0.3536, -0.3536, -0.3536, -0.3536, -0.3536, -0.3536, -0.3536,\n",
      "        -0.3536, -0.3536, -0.3536,  0.0214,  2.7158,  3.1603,  3.1464,  3.1464,\n",
      "         1.1464, -0.3536, -0.3536, -0.3536, -0.3536, -0.3536, -0.3536, -0.3536,\n",
      "        -0.3536, -0.3536, -0.3536, -0.3536, -0.3536, -0.3536, -0.3536, -0.3536,\n",
      "        -0.3536, -0.3536, -0.3536, -0.3536, -0.3536, -0.3536, -0.3536, -0.1314,\n",
      "         2.2853,  3.1603,  3.1464,  3.1464,  1.1464, -0.3536, -0.3536, -0.3536,\n",
      "        -0.3536, -0.3536, -0.3536, -0.3536, -0.3536, -0.3536, -0.3536, -0.3536,\n",
      "        -0.3536, -0.3536, -0.3536, -0.3536, -0.3536, -0.3536, -0.3536, -0.3536,\n",
      "        -0.3536, -0.3536, -0.3536, -0.3536,  1.6603,  3.1881,  3.1603,  3.1603,\n",
      "         3.1603, -0.3536, -0.3536, -0.3536, -0.3536, -0.3536, -0.3536, -0.3536,\n",
      "        -0.3536, -0.3536, -0.3536, -0.3536, -0.3536, -0.3536, -0.3536, -0.3536,\n",
      "        -0.3536, -0.3536, -0.3536, -0.3536, -0.3536, -0.3536, -0.3536, -0.3536,\n",
      "         1.6464,  3.1603,  3.1464,  3.1464,  2.5631, -0.3536, -0.3536, -0.3536,\n",
      "        -0.3536, -0.3536, -0.3536, -0.3536, -0.3536, -0.3536, -0.3536, -0.3536,\n",
      "        -0.3536, -0.3536, -0.3536, -0.3536, -0.3536, -0.3536, -0.3536, -0.3536,\n",
      "        -0.3536, -0.3536, -0.3536, -0.3536,  1.6464,  3.1603,  3.1464,  3.1464,\n",
      "         1.1464, -0.3536, -0.3536, -0.3536, -0.3536, -0.3536, -0.3536, -0.3536,\n",
      "        -0.3536, -0.3536, -0.3536, -0.3536, -0.3536, -0.3536, -0.3536, -0.3536,\n",
      "        -0.3536, -0.3536, -0.3536, -0.3536, -0.3536, -0.3536, -0.3536, -0.3536,\n",
      "         0.5075,  3.1603,  3.1464,  3.1464,  1.1464, -0.3536, -0.3536, -0.3536,\n",
      "        -0.3536, -0.3536, -0.3536, -0.3536, -0.3536, -0.3536, -0.3536, -0.3536,\n",
      "        -0.3536, -0.3536, -0.3536, -0.3536, -0.3536, -0.3536, -0.3536, -0.3536,\n",
      "        -0.3536, -0.3536, -0.3536, -0.3536, -0.3536, -0.3536, -0.3536, -0.3536,\n",
      "        -0.3536, -0.3536, -0.3536, -0.3536, -0.3536, -0.3536, -0.3536, -0.3536,\n",
      "        -0.3536, -0.3536, -0.3536, -0.3536, -0.3536, -0.3536, -0.3536, -0.3536,\n",
      "        -0.3536, -0.3536, -0.3536, -0.3536, -0.3536, -0.3536, -0.3536, -0.3536,\n",
      "        -0.3536, -0.3536, -0.3536, -0.3536, -0.3536, -0.3536, -0.3536, -0.3536,\n",
      "        -0.3536, -0.3536, -0.3536, -0.3536, -0.3536, -0.3536, -0.3536, -0.3536,\n",
      "        -0.3536, -0.3536, -0.3536, -0.3536, -0.3536, -0.3536, -0.3536, -0.3536,\n",
      "        -0.3536, -0.3536, -0.3536, -0.3536, -0.3536, -0.3536, -0.3536, -0.3536,\n",
      "        -0.3536, -0.3536, -0.3536, -0.3536, -0.3536, -0.3536, -0.3536, -0.3536,\n",
      "        -0.3536, -0.3536, -0.3536, -0.3536, -0.3536, -0.3536, -0.3536, -0.3536,\n",
      "        -0.3536, -0.3536, -0.3536, -0.3536, -0.3536, -0.3536, -0.3536, -0.3536,\n",
      "        -0.3536, -0.3536, -0.3536, -0.3536, -0.3536, -0.3536, -0.3536, -0.3536,\n",
      "        -0.3536, -0.3536, -0.3536, -0.3536, -0.3536, -0.3536, -0.3536, -0.3536])\n"
     ]
    }
   ],
   "source": [
    "print(f\"Number of train images: {len(ds_train.data)}.\\n\")\n",
    "\n",
    "# (1) Datatype Conversion (example with one image)\n",
    "print(\"(1) Datatype Conversion (example with one image):\\n\")\n",
    "\n",
    "index_image = 128\n",
    "# get one image\n",
    "image_train = ds_train.data[index_image]\n",
    "\n",
    "\n",
    "print(\"Original Training image in uint8.\\n\")\n",
    "print(f\"Size original: {image_train.size()}\")\n",
    "print(\"\")\n",
    "print(image_train)\n",
    "\n",
    "print(\"\")\n",
    "print(\"Datatype Conversion of Training images: uint8 -> float32 and flatten into a one-dimensional tensor.\\n\")\n",
    "image_train_conv = ds_train.data[index_image].to(torch.float32).flatten(-2)\n",
    "print(f\"Size converted: {image_train_conv.size()}\")\n",
    "print(\"\")\n",
    "print(image_train_conv)\n",
    "\n",
    "# (2) Normalization (example with one image)\n",
    "print(\"\")\n",
    "print(\"(2) Normalization (example with one image):\\n\")\n",
    "mean = image_train_conv.mean()\n",
    "print(f\"Mean train: {mean}\")\n",
    "std = image_train_conv.std()\n",
    "print(f\"Standard deviation train: {std}\\n\")\n",
    "image_train_conv -= mean\n",
    "image_train_conv /= std\n",
    "print(\"Image normalized:\\n\")\n",
    "print(image_train_conv)"
   ]
  },
  {
   "cell_type": "markdown",
   "id": "480ed04a-3a41-40dc-af87-8f055f356ca7",
   "metadata": {},
   "source": [
    "**Commento**: nel codice seguente si esegue le operazioni precedenti per tutto il dataset."
   ]
  },
  {
   "cell_type": "code",
   "execution_count": 112,
   "id": "33cac05a-e5df-4956-a6a7-26209a353e5e",
   "metadata": {},
   "outputs": [
    {
     "name": "stdout",
     "output_type": "stream",
     "text": [
      "Before normalization, Mean: 33.318424224853516 - Standard Deviation 78.56748962402344 of the Train set.\n",
      "After normalization, Mean: -5.1236316522818015e-08 - Standard Deviation 1.0 of the Train set.\n",
      "\n",
      "Before normalization, Mean: 33.79122543334961 - Standard Deviation 79.17247009277344 of the Test set.\n",
      "After normalization, Mean: 0.006017743144184351 - Standard Deviation 1.0077000856399536 of the Test set.\n",
      "\n",
      "Labels train: tensor([5, 0, 4,  ..., 5, 6, 8])\n",
      "Labels test: tensor([7, 2, 1,  ..., 4, 5, 6])\n"
     ]
    }
   ],
   "source": [
    "# (1) Datatype Conversion\n",
    "Xs_train = ds_train.data.to(torch.float32).flatten(-2)\n",
    "Xs_test = ds_test.data.to(torch.float32).flatten(-2)\n",
    "\n",
    "# (2) Normalization:\n",
    "mean_train = Xs_train.mean()\n",
    "std_train = Xs_train.std()\n",
    "print(f\"Before normalization, Mean: {Xs_train.mean()} - Standard Deviation {Xs_train.std()} of the Train set.\")\n",
    "\n",
    "# Standardize train set.\n",
    "Xs_train -= mean_train\n",
    "Xs_train /= std_train\n",
    "print(f\"After normalization, Mean: {Xs_train.mean()} - Standard Deviation {Xs_train.std()} of the Train set.\")\n",
    "print(\"\")\n",
    "\n",
    "# Standardize test set.\n",
    "print(f\"Before normalization, Mean: {Xs_test.mean()} - Standard Deviation {Xs_test.std()} of the Test set.\")\n",
    "Xs_test -= mean_train\n",
    "Xs_test /= std_train\n",
    "print(f\"After normalization, Mean: {Xs_test.mean()} - Standard Deviation {Xs_test.std()} of the Test set.\")\n",
    "print(\"\")\n",
    "\n",
    "# Extract train and test labels.\n",
    "ys_train = ds_train.targets\n",
    "ys_test  = ds_test.targets\n",
    "print(f\"Labels train: {ys_train}\")\n",
    "print(f\"Labels test: {ys_test}\")"
   ]
  },
  {
   "cell_type": "markdown",
   "id": "f68fcf34-8efe-4224-8138-8739d6c2c23f",
   "metadata": {},
   "source": [
    "### Exercise 1.3: Subsampling the MNIST dataset.\n",
    "\n",
    "MNIST is kind of big, and thus inconvenient to work with unless using the GPU. For this laboratory we will use a smaller subset of the dataset for training to keep memory and computation times low.\n",
    "\n",
    "Modify `ds.train` to use only a subset of, say, 10000 images sampled from the original data. Make sure to select the correct corresponding targets.\n"
   ]
  },
  {
   "cell_type": "code",
   "execution_count": 127,
   "id": "74d2ea58-1f86-42fe-b867-f824e4966ab6",
   "metadata": {},
   "outputs": [
    {
     "name": "stdout",
     "output_type": "stream",
     "text": [
      "Number of index: 10000\n",
      "Print the first 10 index:\n",
      "tensor([54432, 54862, 57056, 54723, 25502, 56406, 43474, 51312, 46127, 41635])\n"
     ]
    }
   ],
   "source": [
    "# Randomly sample 10000 training images.\n",
    "\n",
    "\n",
    "seed = 24325\n",
    "torch.manual_seed(seed) # Set random seed.\n",
    "\n",
    "# set subset dimension\n",
    "num_train = 10000\n",
    "\n",
    "# select num_train random indeces. First we apply a permutation on the 60000 elements in the train set \n",
    "# and then take the first num_train \n",
    "I = torch.randperm(Xs_train.shape[0])[:num_train]\n",
    "print(f\"Number of index: {len(I)}\")\n",
    "\n",
    "# subset Xs_train \n",
    "Xs_train_small = Xs_train[I]\n",
    "ys_train_small = ys_train[I]\n",
    "\n",
    "index_num_print = 10\n",
    "print(f\"Print the first {index_num_print} index:\")\n",
    "print(I[:index_num_print])"
   ]
  },
  {
   "cell_type": "code",
   "execution_count": 131,
   "id": "ca20eb88-8a7f-411e-8854-c57451407f23",
   "metadata": {},
   "outputs": [
    {
     "name": "stdout",
     "output_type": "stream",
     "text": [
      "Original set:\n"
     ]
    },
    {
     "data": {
      "text/plain": [
       "(torch.Size([60000, 784]), torch.Size([60000]))"
      ]
     },
     "execution_count": 131,
     "metadata": {},
     "output_type": "execute_result"
    }
   ],
   "source": [
    "print(\"Original set:\")\n",
    "Xs_train.shape, ys_train.shape"
   ]
  },
  {
   "cell_type": "code",
   "execution_count": 133,
   "id": "03d4b817-60ef-4808-b4f7-0baddaf9f1dc",
   "metadata": {},
   "outputs": [
    {
     "name": "stdout",
     "output_type": "stream",
     "text": [
      "Subset:\n"
     ]
    },
    {
     "data": {
      "text/plain": [
       "(torch.Size([10000, 784]), torch.Size([10000]))"
      ]
     },
     "execution_count": 133,
     "metadata": {},
     "output_type": "execute_result"
    }
   ],
   "source": [
    "print(\"Subset:\")\n",
    "Xs_train_small.shape, ys_train_small.shape"
   ]
  },
  {
   "cell_type": "markdown",
   "id": "8d557069-7f6d-4765-938f-6ff3e360b15d",
   "metadata": {},
   "source": [
    "## Establishing a stable baseline\n",
    "\n",
    "In this exercise you will establish a reliable baseline using a classical approach. This is an important step in our methodology in order to judge whether our Deep MLP is performing well or not.\n",
    "\n",
    "### Exercise 2.1: Establish the stable baseline\n",
    "\n",
    "Train and test your stable baseline to estimate the best achievable accuracy using classical models.\n",
    "\n",
    "**Tip**: Don't do any extensive cross-validation of your baseline (for now). Just fit a simple model (e.g. a linear SVM) and record the accuracy.\n",
    "\n"
   ]
  },
  {
   "cell_type": "code",
   "execution_count": null,
   "id": "0649785c-d4f7-4757-85ec-430ea86ca1a0",
   "metadata": {},
   "outputs": [],
   "source": [
    "from sklearn.svm import LinearSVC, SVC\n",
    "from sklearn.discriminant_analysis import QuadraticDiscriminantAnalysis\n",
    "\n",
    "linearSVC = \n"
   ]
  },
  {
   "cell_type": "code",
   "execution_count": 126,
   "id": "d4bf8cf7-0632-46fa-b97e-32eef1f166ae",
   "metadata": {},
   "outputs": [
    {
     "name": "stderr",
     "output_type": "stream",
     "text": [
      "/home/bagdanov/software/miniconda3/envs/FML/lib/python3.9/site-packages/sklearn/discriminant_analysis.py:935: UserWarning: Variables are collinear\n",
      "  warnings.warn(\"Variables are collinear\")\n"
     ]
    },
    {
     "data": {
      "text/html": [
       "<style>#sk-container-id-4 {color: black;}#sk-container-id-4 pre{padding: 0;}#sk-container-id-4 div.sk-toggleable {background-color: white;}#sk-container-id-4 label.sk-toggleable__label {cursor: pointer;display: block;width: 100%;margin-bottom: 0;padding: 0.3em;box-sizing: border-box;text-align: center;}#sk-container-id-4 label.sk-toggleable__label-arrow:before {content: \"▸\";float: left;margin-right: 0.25em;color: #696969;}#sk-container-id-4 label.sk-toggleable__label-arrow:hover:before {color: black;}#sk-container-id-4 div.sk-estimator:hover label.sk-toggleable__label-arrow:before {color: black;}#sk-container-id-4 div.sk-toggleable__content {max-height: 0;max-width: 0;overflow: hidden;text-align: left;background-color: #f0f8ff;}#sk-container-id-4 div.sk-toggleable__content pre {margin: 0.2em;color: black;border-radius: 0.25em;background-color: #f0f8ff;}#sk-container-id-4 input.sk-toggleable__control:checked~div.sk-toggleable__content {max-height: 200px;max-width: 100%;overflow: auto;}#sk-container-id-4 input.sk-toggleable__control:checked~label.sk-toggleable__label-arrow:before {content: \"▾\";}#sk-container-id-4 div.sk-estimator input.sk-toggleable__control:checked~label.sk-toggleable__label {background-color: #d4ebff;}#sk-container-id-4 div.sk-label input.sk-toggleable__control:checked~label.sk-toggleable__label {background-color: #d4ebff;}#sk-container-id-4 input.sk-hidden--visually {border: 0;clip: rect(1px 1px 1px 1px);clip: rect(1px, 1px, 1px, 1px);height: 1px;margin: -1px;overflow: hidden;padding: 0;position: absolute;width: 1px;}#sk-container-id-4 div.sk-estimator {font-family: monospace;background-color: #f0f8ff;border: 1px dotted black;border-radius: 0.25em;box-sizing: border-box;margin-bottom: 0.5em;}#sk-container-id-4 div.sk-estimator:hover {background-color: #d4ebff;}#sk-container-id-4 div.sk-parallel-item::after {content: \"\";width: 100%;border-bottom: 1px solid gray;flex-grow: 1;}#sk-container-id-4 div.sk-label:hover label.sk-toggleable__label {background-color: #d4ebff;}#sk-container-id-4 div.sk-serial::before {content: \"\";position: absolute;border-left: 1px solid gray;box-sizing: border-box;top: 0;bottom: 0;left: 50%;z-index: 0;}#sk-container-id-4 div.sk-serial {display: flex;flex-direction: column;align-items: center;background-color: white;padding-right: 0.2em;padding-left: 0.2em;position: relative;}#sk-container-id-4 div.sk-item {position: relative;z-index: 1;}#sk-container-id-4 div.sk-parallel {display: flex;align-items: stretch;justify-content: center;background-color: white;position: relative;}#sk-container-id-4 div.sk-item::before, #sk-container-id-4 div.sk-parallel-item::before {content: \"\";position: absolute;border-left: 1px solid gray;box-sizing: border-box;top: 0;bottom: 0;left: 50%;z-index: -1;}#sk-container-id-4 div.sk-parallel-item {display: flex;flex-direction: column;z-index: 1;position: relative;background-color: white;}#sk-container-id-4 div.sk-parallel-item:first-child::after {align-self: flex-end;width: 50%;}#sk-container-id-4 div.sk-parallel-item:last-child::after {align-self: flex-start;width: 50%;}#sk-container-id-4 div.sk-parallel-item:only-child::after {width: 0;}#sk-container-id-4 div.sk-dashed-wrapped {border: 1px dashed gray;margin: 0 0.4em 0.5em 0.4em;box-sizing: border-box;padding-bottom: 0.4em;background-color: white;}#sk-container-id-4 div.sk-label label {font-family: monospace;font-weight: bold;display: inline-block;line-height: 1.2em;}#sk-container-id-4 div.sk-label-container {text-align: center;}#sk-container-id-4 div.sk-container {/* jupyter's `normalize.less` sets `[hidden] { display: none; }` but bootstrap.min.css set `[hidden] { display: none !important; }` so we also need the `!important` here to be able to override the default hidden behavior on the sphinx rendered scikit-learn.org. See: https://github.com/scikit-learn/scikit-learn/issues/21755 */display: inline-block !important;position: relative;}#sk-container-id-4 div.sk-text-repr-fallback {display: none;}</style><div id=\"sk-container-id-4\" class=\"sk-top-container\"><div class=\"sk-text-repr-fallback\"><pre>QuadraticDiscriminantAnalysis()</pre><b>In a Jupyter environment, please rerun this cell to show the HTML representation or trust the notebook. <br />On GitHub, the HTML representation is unable to render, please try loading this page with nbviewer.org.</b></div><div class=\"sk-container\" hidden><div class=\"sk-item\"><div class=\"sk-estimator sk-toggleable\"><input class=\"sk-toggleable__control sk-hidden--visually\" id=\"sk-estimator-id-4\" type=\"checkbox\" checked><label for=\"sk-estimator-id-4\" class=\"sk-toggleable__label sk-toggleable__label-arrow\">QuadraticDiscriminantAnalysis</label><div class=\"sk-toggleable__content\"><pre>QuadraticDiscriminantAnalysis()</pre></div></div></div></div></div>"
      ],
      "text/plain": [
       "QuadraticDiscriminantAnalysis()"
      ]
     },
     "execution_count": 126,
     "metadata": {},
     "output_type": "execute_result"
    }
   ],
   "source": [
    "# Your code here.\n",
    "from sklearn.svm import LinearSVC, SVC\n",
    "from sklearn.discriminant_analysis import QuadraticDiscriminantAnalysis\n",
    "\n",
    "svc = QuadraticDiscriminantAnalysis()\n",
    "svc.fit(Xs_train_small, ys_train_small)"
   ]
  },
  {
   "cell_type": "code",
   "execution_count": 127,
   "id": "8c85a526-2772-41ed-b53f-c61571522f94",
   "metadata": {},
   "outputs": [
    {
     "data": {
      "text/plain": [
       "0.1963"
      ]
     },
     "execution_count": 127,
     "metadata": {},
     "output_type": "execute_result"
    }
   ],
   "source": [
    "(svc.predict(Xs_test) == ys_test.numpy()).mean()"
   ]
  },
  {
   "cell_type": "code",
   "execution_count": 128,
   "id": "118843a9-901e-4e0e-ba5f-311fe9045f9d",
   "metadata": {},
   "outputs": [
    {
     "name": "stdout",
     "output_type": "stream",
     "text": [
      "              precision    recall  f1-score   support\n",
      "\n",
      "           0       0.00      0.00      0.00         0\n",
      "           1       0.00      0.00      0.00         0\n",
      "           2       0.22      0.26      0.24       891\n",
      "           3       0.03      0.83      0.06        36\n",
      "           4       0.00      0.22      0.01        18\n",
      "           5       0.00      0.27      0.01        15\n",
      "           6       0.06      0.93      0.11        59\n",
      "           7       0.66      0.63      0.64      1082\n",
      "           8       0.98      0.12      0.22      7892\n",
      "           9       0.01      1.00      0.01         7\n",
      "\n",
      "    accuracy                           0.20     10000\n",
      "   macro avg       0.20      0.43      0.13     10000\n",
      "weighted avg       0.87      0.20      0.26     10000\n"
     ]
    },
    {
     "name": "stderr",
     "output_type": "stream",
     "text": [
      "/home/bagdanov/software/miniconda3/envs/FML/lib/python3.9/site-packages/sklearn/metrics/_classification.py:1471: UndefinedMetricWarning: Recall and F-score are ill-defined and being set to 0.0 in labels with no true samples. Use `zero_division` parameter to control this behavior.\n",
      "  _warn_prf(average, modifier, msg_start, len(result))\n",
      "/home/bagdanov/software/miniconda3/envs/FML/lib/python3.9/site-packages/sklearn/metrics/_classification.py:1471: UndefinedMetricWarning: Recall and F-score are ill-defined and being set to 0.0 in labels with no true samples. Use `zero_division` parameter to control this behavior.\n",
      "  _warn_prf(average, modifier, msg_start, len(result))\n",
      "/home/bagdanov/software/miniconda3/envs/FML/lib/python3.9/site-packages/sklearn/metrics/_classification.py:1471: UndefinedMetricWarning: Recall and F-score are ill-defined and being set to 0.0 in labels with no true samples. Use `zero_division` parameter to control this behavior.\n",
      "  _warn_prf(average, modifier, msg_start, len(result))\n"
     ]
    }
   ],
   "source": [
    "from sklearn.metrics import classification_report\n",
    "print(classification_report(svc.predict(Xs_test), ys_test))"
   ]
  },
  {
   "cell_type": "markdown",
   "id": "215ded91-0fc9-4923-883f-548adebbc4a1",
   "metadata": {},
   "source": [
    "## Part 3: Training some deep models (finally)\n",
    "\n",
    "Now we will finally train some deep models (Multilayer Perceptrons, to be precise). Since the dataset is a bit too large to use batch gradient descent, we will first need to setup a `torch.utils.data.DataLoader` for our training data. A `DataLoader` breaks the dataset up into a sequence of *batches* that will be used for training. In order to use this, we will first have to use `torch.utils.data.TensorDataset` on `ds_train.data` and `ds_train.targets` to make a new torch `dataset` for use in the dataloader. \n",
    "\n",
    "### Exercise 3.1: Creating the DataLoader\n",
    "\n",
    "Create a `DataLoader` for `ds_train` use a `batch_size` of about 16 or 32 to start. After you have your `DataLoader` experiment with is using `next(iter(dl_train))` to see what it returns. The pytorch `DataLoader` is a Python iterator.\n",
    "\n",
    "**EXTREMELY IMPORTANT**: Make sure you use `shuffle=True` in the constructor of your dataloader."
   ]
  },
  {
   "cell_type": "code",
   "execution_count": 138,
   "id": "cf280cd7-418f-4ed4-9ae8-4bb9a618e66d",
   "metadata": {},
   "outputs": [],
   "source": [
    "# Your code here.\n",
    "from torch.utils.data import DataLoader, TensorDataset\n",
    "batch_size = 32\n",
    "\n",
    "dl_train = DataLoader(TensorDataset(Xs_train_small, ys_train_small), batch_size=batch_size, shuffle=True)"
   ]
  },
  {
   "cell_type": "code",
   "execution_count": 146,
   "id": "dd46bd03-ba1f-4474-befe-908dcc500897",
   "metadata": {},
   "outputs": [
    {
     "data": {
      "text/plain": [
       "torch.Size([32])"
      ]
     },
     "execution_count": 146,
     "metadata": {},
     "output_type": "execute_result"
    }
   ],
   "source": [
    "it = iter(dl_train)\n",
    "next(it)\n",
    "next(it)[1].shape"
   ]
  },
  {
   "cell_type": "markdown",
   "id": "96c40712-538f-4efa-9752-f58a866d357f",
   "metadata": {},
   "source": [
    "### Some support code (NOT an exercise).\n",
    "\n",
    "Here is some support code that you can use to train a model for a **single** epoch. The function returns the mean loss over all iterations. You will use it in the next exercise to train and monitor training."
   ]
  },
  {
   "cell_type": "code",
   "execution_count": 147,
   "id": "638ed76b-b385-46d2-904e-f2ee31b9a41d",
   "metadata": {},
   "outputs": [],
   "source": [
    "# Train a model for a single epoch. You should pass it a model, a dataloader,\n",
    "# and an optimizer. Returns the mean loss over the entire epoch.\n",
    "def train_epoch(model, dl, optimizer):\n",
    "    model.train() # Set the model to 'training' mode.\n",
    "    losses = []   # List to collect the per-iteration losses.\n",
    "    \n",
    "    # Iterate over the dataloader.\n",
    "    for (xs, ys) in dl:\n",
    "        optimizer.zero_grad() # Zeros out the gradients at each parameter.\n",
    "        output = model(xs)    # Forward pass of batch through model.\n",
    "        \n",
    "        # Compute the loss (negative log likelihood).\n",
    "        loss = torch.nn.functional.nll_loss(output, ys)\n",
    "        loss.backward()  # Compute gradients at all parameters.\n",
    "        optimizer.step() # Perform step of gradient descent.\n",
    "        \n",
    "        # Save loss for this batch\n",
    "        losses.append(loss.item())\n",
    "    # Leave model in 'evaluation' mode and return mean loss.\n",
    "    model.eval()\n",
    "    return np.mean(losses)"
   ]
  },
  {
   "cell_type": "markdown",
   "id": "bcaaaf4a-7266-43b8-a5b6-c36c7cb087bc",
   "metadata": {},
   "source": [
    "### Exercise 3.2: Defining a 1-layer neural network\n",
    "\n",
    "Define a simple model that uses a **single** `torch.nn.Linear` layer followed by a `torch.nn.Softmax` to predict  the output probabilities for the ten classes."
   ]
  },
  {
   "cell_type": "code",
   "execution_count": 227,
   "id": "1e6f6ae8-5826-44ab-9077-6358f7585f6a",
   "metadata": {},
   "outputs": [
    {
     "ename": "AssertionError",
     "evalue": "Torch not compiled with CUDA enabled",
     "output_type": "error",
     "traceback": [
      "\u001b[0;31m---------------------------------------------------------------------------\u001b[0m",
      "\u001b[0;31mAssertionError\u001b[0m                            Traceback (most recent call last)",
      "Cell \u001b[0;32mIn[227], line 2\u001b[0m\n\u001b[1;32m      1\u001b[0m \u001b[38;5;66;03m# Define a fresh model.\u001b[39;00m\n\u001b[0;32m----> 2\u001b[0m model \u001b[38;5;241m=\u001b[39m \u001b[43mtorch\u001b[49m\u001b[38;5;241;43m.\u001b[39;49m\u001b[43mnn\u001b[49m\u001b[38;5;241;43m.\u001b[39;49m\u001b[43mSequential\u001b[49m\u001b[43m(\u001b[49m\n\u001b[1;32m      3\u001b[0m \u001b[43m    \u001b[49m\u001b[43mtorch\u001b[49m\u001b[38;5;241;43m.\u001b[39;49m\u001b[43mnn\u001b[49m\u001b[38;5;241;43m.\u001b[39;49m\u001b[43mLinear\u001b[49m\u001b[43m(\u001b[49m\u001b[38;5;241;43m784\u001b[39;49m\u001b[43m,\u001b[49m\u001b[43m \u001b[49m\u001b[38;5;241;43m10\u001b[39;49m\u001b[43m)\u001b[49m\u001b[43m,\u001b[49m\n\u001b[1;32m      4\u001b[0m \u001b[43m    \u001b[49m\u001b[43mtorch\u001b[49m\u001b[38;5;241;43m.\u001b[39;49m\u001b[43mnn\u001b[49m\u001b[38;5;241;43m.\u001b[39;49m\u001b[43mLogSoftmax\u001b[49m\u001b[43m(\u001b[49m\u001b[43m)\u001b[49m\n\u001b[1;32m      5\u001b[0m \u001b[43m)\u001b[49m\u001b[38;5;241;43m.\u001b[39;49m\u001b[43mto\u001b[49m\u001b[43m(\u001b[49m\u001b[38;5;124;43m'\u001b[39;49m\u001b[38;5;124;43mcuda:0\u001b[39;49m\u001b[38;5;124;43m'\u001b[39;49m\u001b[43m)\u001b[49m\n",
      "File \u001b[0;32m~/software/miniconda3/envs/FML/lib/python3.9/site-packages/torch/nn/modules/module.py:987\u001b[0m, in \u001b[0;36mModule.to\u001b[0;34m(self, *args, **kwargs)\u001b[0m\n\u001b[1;32m    983\u001b[0m         \u001b[38;5;28;01mreturn\u001b[39;00m t\u001b[38;5;241m.\u001b[39mto(device, dtype \u001b[38;5;28;01mif\u001b[39;00m t\u001b[38;5;241m.\u001b[39mis_floating_point() \u001b[38;5;129;01mor\u001b[39;00m t\u001b[38;5;241m.\u001b[39mis_complex() \u001b[38;5;28;01melse\u001b[39;00m \u001b[38;5;28;01mNone\u001b[39;00m,\n\u001b[1;32m    984\u001b[0m                     non_blocking, memory_format\u001b[38;5;241m=\u001b[39mconvert_to_format)\n\u001b[1;32m    985\u001b[0m     \u001b[38;5;28;01mreturn\u001b[39;00m t\u001b[38;5;241m.\u001b[39mto(device, dtype \u001b[38;5;28;01mif\u001b[39;00m t\u001b[38;5;241m.\u001b[39mis_floating_point() \u001b[38;5;129;01mor\u001b[39;00m t\u001b[38;5;241m.\u001b[39mis_complex() \u001b[38;5;28;01melse\u001b[39;00m \u001b[38;5;28;01mNone\u001b[39;00m, non_blocking)\n\u001b[0;32m--> 987\u001b[0m \u001b[38;5;28;01mreturn\u001b[39;00m \u001b[38;5;28;43mself\u001b[39;49m\u001b[38;5;241;43m.\u001b[39;49m\u001b[43m_apply\u001b[49m\u001b[43m(\u001b[49m\u001b[43mconvert\u001b[49m\u001b[43m)\u001b[49m\n",
      "File \u001b[0;32m~/software/miniconda3/envs/FML/lib/python3.9/site-packages/torch/nn/modules/module.py:639\u001b[0m, in \u001b[0;36mModule._apply\u001b[0;34m(self, fn)\u001b[0m\n\u001b[1;32m    637\u001b[0m \u001b[38;5;28;01mdef\u001b[39;00m \u001b[38;5;21m_apply\u001b[39m(\u001b[38;5;28mself\u001b[39m, fn):\n\u001b[1;32m    638\u001b[0m     \u001b[38;5;28;01mfor\u001b[39;00m module \u001b[38;5;129;01min\u001b[39;00m \u001b[38;5;28mself\u001b[39m\u001b[38;5;241m.\u001b[39mchildren():\n\u001b[0;32m--> 639\u001b[0m         \u001b[43mmodule\u001b[49m\u001b[38;5;241;43m.\u001b[39;49m\u001b[43m_apply\u001b[49m\u001b[43m(\u001b[49m\u001b[43mfn\u001b[49m\u001b[43m)\u001b[49m\n\u001b[1;32m    641\u001b[0m     \u001b[38;5;28;01mdef\u001b[39;00m \u001b[38;5;21mcompute_should_use_set_data\u001b[39m(tensor, tensor_applied):\n\u001b[1;32m    642\u001b[0m         \u001b[38;5;28;01mif\u001b[39;00m torch\u001b[38;5;241m.\u001b[39m_has_compatible_shallow_copy_type(tensor, tensor_applied):\n\u001b[1;32m    643\u001b[0m             \u001b[38;5;66;03m# If the new tensor has compatible tensor type as the existing tensor,\u001b[39;00m\n\u001b[1;32m    644\u001b[0m             \u001b[38;5;66;03m# the current behavior is to change the tensor in-place using `.data =`,\u001b[39;00m\n\u001b[0;32m   (...)\u001b[0m\n\u001b[1;32m    649\u001b[0m             \u001b[38;5;66;03m# global flag to let the user control whether they want the future\u001b[39;00m\n\u001b[1;32m    650\u001b[0m             \u001b[38;5;66;03m# behavior of overwriting the existing tensor or not.\u001b[39;00m\n",
      "File \u001b[0;32m~/software/miniconda3/envs/FML/lib/python3.9/site-packages/torch/nn/modules/module.py:662\u001b[0m, in \u001b[0;36mModule._apply\u001b[0;34m(self, fn)\u001b[0m\n\u001b[1;32m    658\u001b[0m \u001b[38;5;66;03m# Tensors stored in modules are graph leaves, and we don't want to\u001b[39;00m\n\u001b[1;32m    659\u001b[0m \u001b[38;5;66;03m# track autograd history of `param_applied`, so we have to use\u001b[39;00m\n\u001b[1;32m    660\u001b[0m \u001b[38;5;66;03m# `with torch.no_grad():`\u001b[39;00m\n\u001b[1;32m    661\u001b[0m \u001b[38;5;28;01mwith\u001b[39;00m torch\u001b[38;5;241m.\u001b[39mno_grad():\n\u001b[0;32m--> 662\u001b[0m     param_applied \u001b[38;5;241m=\u001b[39m \u001b[43mfn\u001b[49m\u001b[43m(\u001b[49m\u001b[43mparam\u001b[49m\u001b[43m)\u001b[49m\n\u001b[1;32m    663\u001b[0m should_use_set_data \u001b[38;5;241m=\u001b[39m compute_should_use_set_data(param, param_applied)\n\u001b[1;32m    664\u001b[0m \u001b[38;5;28;01mif\u001b[39;00m should_use_set_data:\n",
      "File \u001b[0;32m~/software/miniconda3/envs/FML/lib/python3.9/site-packages/torch/nn/modules/module.py:985\u001b[0m, in \u001b[0;36mModule.to.<locals>.convert\u001b[0;34m(t)\u001b[0m\n\u001b[1;32m    982\u001b[0m \u001b[38;5;28;01mif\u001b[39;00m convert_to_format \u001b[38;5;129;01mis\u001b[39;00m \u001b[38;5;129;01mnot\u001b[39;00m \u001b[38;5;28;01mNone\u001b[39;00m \u001b[38;5;129;01mand\u001b[39;00m t\u001b[38;5;241m.\u001b[39mdim() \u001b[38;5;129;01min\u001b[39;00m (\u001b[38;5;241m4\u001b[39m, \u001b[38;5;241m5\u001b[39m):\n\u001b[1;32m    983\u001b[0m     \u001b[38;5;28;01mreturn\u001b[39;00m t\u001b[38;5;241m.\u001b[39mto(device, dtype \u001b[38;5;28;01mif\u001b[39;00m t\u001b[38;5;241m.\u001b[39mis_floating_point() \u001b[38;5;129;01mor\u001b[39;00m t\u001b[38;5;241m.\u001b[39mis_complex() \u001b[38;5;28;01melse\u001b[39;00m \u001b[38;5;28;01mNone\u001b[39;00m,\n\u001b[1;32m    984\u001b[0m                 non_blocking, memory_format\u001b[38;5;241m=\u001b[39mconvert_to_format)\n\u001b[0;32m--> 985\u001b[0m \u001b[38;5;28;01mreturn\u001b[39;00m \u001b[43mt\u001b[49m\u001b[38;5;241;43m.\u001b[39;49m\u001b[43mto\u001b[49m\u001b[43m(\u001b[49m\u001b[43mdevice\u001b[49m\u001b[43m,\u001b[49m\u001b[43m \u001b[49m\u001b[43mdtype\u001b[49m\u001b[43m \u001b[49m\u001b[38;5;28;43;01mif\u001b[39;49;00m\u001b[43m \u001b[49m\u001b[43mt\u001b[49m\u001b[38;5;241;43m.\u001b[39;49m\u001b[43mis_floating_point\u001b[49m\u001b[43m(\u001b[49m\u001b[43m)\u001b[49m\u001b[43m \u001b[49m\u001b[38;5;129;43;01mor\u001b[39;49;00m\u001b[43m \u001b[49m\u001b[43mt\u001b[49m\u001b[38;5;241;43m.\u001b[39;49m\u001b[43mis_complex\u001b[49m\u001b[43m(\u001b[49m\u001b[43m)\u001b[49m\u001b[43m \u001b[49m\u001b[38;5;28;43;01melse\u001b[39;49;00m\u001b[43m \u001b[49m\u001b[38;5;28;43;01mNone\u001b[39;49;00m\u001b[43m,\u001b[49m\u001b[43m \u001b[49m\u001b[43mnon_blocking\u001b[49m\u001b[43m)\u001b[49m\n",
      "File \u001b[0;32m~/software/miniconda3/envs/FML/lib/python3.9/site-packages/torch/cuda/__init__.py:221\u001b[0m, in \u001b[0;36m_lazy_init\u001b[0;34m()\u001b[0m\n\u001b[1;32m    217\u001b[0m     \u001b[38;5;28;01mraise\u001b[39;00m \u001b[38;5;167;01mRuntimeError\u001b[39;00m(\n\u001b[1;32m    218\u001b[0m         \u001b[38;5;124m\"\u001b[39m\u001b[38;5;124mCannot re-initialize CUDA in forked subprocess. To use CUDA with \u001b[39m\u001b[38;5;124m\"\u001b[39m\n\u001b[1;32m    219\u001b[0m         \u001b[38;5;124m\"\u001b[39m\u001b[38;5;124mmultiprocessing, you must use the \u001b[39m\u001b[38;5;124m'\u001b[39m\u001b[38;5;124mspawn\u001b[39m\u001b[38;5;124m'\u001b[39m\u001b[38;5;124m start method\u001b[39m\u001b[38;5;124m\"\u001b[39m)\n\u001b[1;32m    220\u001b[0m \u001b[38;5;28;01mif\u001b[39;00m \u001b[38;5;129;01mnot\u001b[39;00m \u001b[38;5;28mhasattr\u001b[39m(torch\u001b[38;5;241m.\u001b[39m_C, \u001b[38;5;124m'\u001b[39m\u001b[38;5;124m_cuda_getDeviceCount\u001b[39m\u001b[38;5;124m'\u001b[39m):\n\u001b[0;32m--> 221\u001b[0m     \u001b[38;5;28;01mraise\u001b[39;00m \u001b[38;5;167;01mAssertionError\u001b[39;00m(\u001b[38;5;124m\"\u001b[39m\u001b[38;5;124mTorch not compiled with CUDA enabled\u001b[39m\u001b[38;5;124m\"\u001b[39m)\n\u001b[1;32m    222\u001b[0m \u001b[38;5;28;01mif\u001b[39;00m _cudart \u001b[38;5;129;01mis\u001b[39;00m \u001b[38;5;28;01mNone\u001b[39;00m:\n\u001b[1;32m    223\u001b[0m     \u001b[38;5;28;01mraise\u001b[39;00m \u001b[38;5;167;01mAssertionError\u001b[39;00m(\n\u001b[1;32m    224\u001b[0m         \u001b[38;5;124m\"\u001b[39m\u001b[38;5;124mlibcudart functions unavailable. It looks like you have a broken build?\u001b[39m\u001b[38;5;124m\"\u001b[39m)\n",
      "\u001b[0;31mAssertionError\u001b[0m: Torch not compiled with CUDA enabled"
     ]
    }
   ],
   "source": [
    "# Define a fresh model.\n",
    "model = torch.nn.Sequential(\n",
    "    torch.nn.Linear(784, 10),\n",
    "    torch.nn.LogSoftmax()\n",
    ").to('cuda:0')"
   ]
  },
  {
   "cell_type": "code",
   "execution_count": 220,
   "id": "74edf4f4-2144-483f-bad5-da619404fadc",
   "metadata": {},
   "outputs": [],
   "source": [
    "import torch.nn.functional as F\n",
    "class Model(torch.nn.Module):\n",
    "    def __init__(self):\n",
    "        pass\n",
    "    \n",
    "    def forward(xs):\n",
    "        pass"
   ]
  },
  {
   "cell_type": "markdown",
   "id": "0892210c-7b7c-4bab-a648-121d52190cb1",
   "metadata": {},
   "source": [
    "### Exercise 3.2: Training our model\n",
    "\n",
    "Instantiate a `torch.optim.SGD` optimizer using `model.parameters()` and the learning rate (**tip**: make the learning rate variable you can easily change). Then run `train_epoch` for a set number of epochs (e.g. 100, make this a variable too). Is your model learning? How can you tell?"
   ]
  },
  {
   "cell_type": "code",
   "execution_count": 221,
   "id": "4925be6d-f029-4df6-9f74-ff86fa62c9af",
   "metadata": {},
   "outputs": [
    {
     "data": {
      "text/plain": [
       "[Parameter containing:\n",
       " tensor([[ 2.9155e-02, -6.4802e-03, -1.8289e-02,  ..., -2.8091e-03,\n",
       "          -1.1970e-02,  1.2527e-04],\n",
       "         [-3.5197e-02, -2.2249e-02, -2.3974e-02,  ..., -9.3434e-03,\n",
       "           1.4672e-02,  9.5521e-03],\n",
       "         [ 2.6380e-02, -5.6976e-03, -1.4104e-02,  ...,  9.7894e-03,\n",
       "          -2.3853e-02,  2.3543e-03],\n",
       "         ...,\n",
       "         [-2.8197e-02,  3.8452e-03,  4.7914e-05,  ..., -3.2825e-02,\n",
       "          -2.2364e-02,  3.1081e-02],\n",
       "         [ 2.4802e-02, -2.7848e-02, -2.0294e-02,  ...,  3.0655e-03,\n",
       "          -2.2530e-02,  1.5509e-02],\n",
       "         [ 1.7192e-02, -1.4495e-02, -2.3120e-02,  ..., -2.2114e-02,\n",
       "           3.2092e-02, -1.3030e-02]], requires_grad=True),\n",
       " Parameter containing:\n",
       " tensor([-9.7190e-03,  2.8484e-02,  2.5597e-02,  2.6289e-02, -1.0447e-02,\n",
       "         -2.7797e-02,  3.3711e-02,  1.8056e-02,  6.4680e-05, -7.3084e-03],\n",
       "        requires_grad=True)]"
      ]
     },
     "execution_count": 221,
     "metadata": {},
     "output_type": "execute_result"
    }
   ],
   "source": [
    "list(model.parameters())"
   ]
  },
  {
   "cell_type": "code",
   "execution_count": 222,
   "id": "c6ca7a8f-f7a9-4536-a4ba-51ab0e9fbead",
   "metadata": {
    "tags": []
   },
   "outputs": [
    {
     "name": "stderr",
     "output_type": "stream",
     "text": [
      "/home/bagdanov/software/miniconda3/envs/FML/lib/python3.9/site-packages/torch/nn/modules/container.py:204: UserWarning: Implicit dimension choice for log_softmax has been deprecated. Change the call to include dim=X as an argument.\n",
      "  input = module(input)\n"
     ]
    }
   ],
   "source": [
    "# Make an optimizer.\n",
    "opt = torch.optim.SGD(model.parameters(), lr=0.0001)\n",
    "curve = [train_epoch(model, dl_train, opt) for _ in range(500)]"
   ]
  },
  {
   "cell_type": "code",
   "execution_count": 224,
   "id": "9b449c15-974a-45da-97b0-78c2e45f9823",
   "metadata": {},
   "outputs": [
    {
     "data": {
      "text/plain": [
       "[<matplotlib.lines.Line2D at 0x7efcafaca2b0>]"
      ]
     },
     "execution_count": 224,
     "metadata": {},
     "output_type": "execute_result"
    },
    {
     "data": {
      "image/png": "[encoded data removed]",
      "text/plain": [
       "<Figure size 640x480 with 1 Axes>"
      ]
     },
     "metadata": {},
     "output_type": "display_data"
    }
   ],
   "source": [
    "plt.plot(curve[-50:])"
   ]
  },
  {
   "cell_type": "code",
   "execution_count": 225,
   "id": "c84e59cb-59a2-4a60-a3d0-19ce49196247",
   "metadata": {},
   "outputs": [
    {
     "name": "stdout",
     "output_type": "stream",
     "text": [
      "              precision    recall  f1-score   support\n",
      "\n",
      "           0       0.95      0.98      0.96       980\n",
      "           1       0.96      0.98      0.97      1135\n",
      "           2       0.92      0.89      0.90      1032\n",
      "           3       0.90      0.90      0.90      1010\n",
      "           4       0.91      0.93      0.92       982\n",
      "           5       0.89      0.86      0.87       892\n",
      "           6       0.93      0.95      0.94       958\n",
      "           7       0.92      0.91      0.92      1028\n",
      "           8       0.87      0.87      0.87       974\n",
      "           9       0.89      0.89      0.89      1009\n",
      "\n",
      "    accuracy                           0.92     10000\n",
      "   macro avg       0.91      0.91      0.91     10000\n",
      "weighted avg       0.92      0.92      0.92     10000\n"
     ]
    }
   ],
   "source": [
    "print(classification_report(ys_test, torch.argmax(model(Xs_test), 1)))"
   ]
  },
  {
   "cell_type": "markdown",
   "id": "1d2209ce-48d6-4412-9973-456c2d0ae1f0",
   "metadata": {},
   "source": [
    "### Exercise 3.3: Evaluating our model\n",
    "\n",
    "Write some code to plot the loss curve for your training run and evaluate the performance of your model on the test data. Play with the hyperparameters (e.g. learning rate) to try to get the best performance on the test set. Can you beat the stable baseline?"
   ]
  },
  {
   "cell_type": "markdown",
   "id": "e4e688ba-cc3f-4445-ab6b-6675a446ba1c",
   "metadata": {},
   "source": [
    "## Going Deeper\n",
    "\n",
    "Now we will go (at least one layer) deeper to see if we can significantly improve on the baseline.\n",
    "\n",
    "### Exercise 3.4: A 2-layer MLP\n",
    "Define a new model with one hidden layer. Use the code you wrote above to train and evaluate this new model. Can you beat the baseline? You might need to train in two stages using different learning rates.\n",
    "\n",
    "**Things to think about**:\n",
    "\n",
    "+ It might be hard to beat (or even equal) the baseline with deeper networks. Why?\n",
    "+ Is there something else we should be monitoring while training, especially for deep networks?"
   ]
  },
  {
   "cell_type": "code",
   "execution_count": null,
   "id": "ce0c9686-49d7-4bc3-bbd9-0671547bd610",
   "metadata": {},
   "outputs": [],
   "source": [
    "# Your code here."
   ]
  }
 ],
 "metadata": {
  "kernelspec": {
   "display_name": "Python 3 (ipykernel)",
   "language": "python",
   "name": "python3"
  },
  "language_info": {
   "codemirror_mode": {
    "name": "ipython",
    "version": 3
   },
   "file_extension": ".py",
   "mimetype": "text/x-python",
   "name": "python",
   "nbconvert_exporter": "python",
   "pygments_lexer": "ipython3",
   "version": "3.9.5"
  }
 },
 "nbformat": 4,
 "nbformat_minor": 5
}
